{
 "cells": [
  {
   "cell_type": "code",
   "execution_count": 8,
   "metadata": {},
   "outputs": [
    {
     "data": {
      "text/html": [
       "<div><style>\n",
       ".dataframe > thead > tr,\n",
       ".dataframe > tbody > tr {\n",
       "  text-align: right;\n",
       "  white-space: pre-wrap;\n",
       "}\n",
       "</style>\n",
       "<small>shape: (5, 13)</small><table border=\"1\" class=\"dataframe\"><thead><tr><th>longitude_norm</th><th>latitude_norm</th><th>short_id</th><th>longitude</th><th>latitude</th><th>housing_median_age</th><th>total_rooms</th><th>total_bedrooms</th><th>population</th><th>households</th><th>median_income</th><th>median_house_value</th><th>ocean_proximity</th></tr><tr><td>f64</td><td>f64</td><td>str</td><td>f64</td><td>f64</td><td>f64</td><td>f64</td><td>f64</td><td>f64</td><td>f64</td><td>f64</td><td>f64</td><td>str</td></tr></thead><tbody><tr><td>-1.583665</td><td>-1.96068</td><td>&quot;#aaa&quot;</td><td>-120.92</td><td>35.4</td><td>23.0</td><td>2059.0</td><td>354.0</td><td>636.0</td><td>278.0</td><td>3.6908</td><td>278800.0</td><td>&quot;NEAR OCEAN&quot;</td></tr><tr><td>-3.077689</td><td>0.377258</td><td>&quot;#aab&quot;</td><td>-122.42</td><td>37.6</td><td>34.0</td><td>3562.0</td><td>565.0</td><td>1542.0</td><td>563.0</td><td>5.8783</td><td>405100.0</td><td>&quot;NEAR OCEAN&quot;</td></tr><tr><td>-0.438247</td><td>-2.980871</td><td>&quot;#aac&quot;</td><td>-119.77</td><td>34.44</td><td>24.0</td><td>5652.0</td><td>1313.0</td><td>2312.0</td><td>1294.0</td><td>2.4717</td><td>295300.0</td><td>&quot;NEAR OCEAN&quot;</td></tr><tr><td>-2.559761</td><td>0.217853</td><td>&quot;#aad&quot;</td><td>-121.9</td><td>37.45</td><td>18.0</td><td>4900.0</td><td>814.0</td><td>2984.0</td><td>758.0</td><td>6.6176</td><td>276200.0</td><td>&quot;&lt;1H OCEAN&quot;</td></tr><tr><td>1.513944</td><td>-3.629118</td><td>&quot;#aae&quot;</td><td>-117.81</td><td>33.83</td><td>8.0</td><td>7326.0</td><td>884.0</td><td>2569.0</td><td>798.0</td><td>10.157</td><td>477100.0</td><td>&quot;&lt;1H OCEAN&quot;</td></tr></tbody></table></div>"
      ],
      "text/plain": [
       "shape: (5, 13)\n",
       "┌───────────┬───────────┬──────────┬───────────┬───┬───────────┬───────────┬───────────┬───────────┐\n",
       "│ longitude ┆ latitude_ ┆ short_id ┆ longitude ┆ … ┆ household ┆ median_in ┆ median_ho ┆ ocean_pro │\n",
       "│ _norm     ┆ norm      ┆ ---      ┆ ---       ┆   ┆ s         ┆ come      ┆ use_value ┆ ximity    │\n",
       "│ ---       ┆ ---       ┆ str      ┆ f64       ┆   ┆ ---       ┆ ---       ┆ ---       ┆ ---       │\n",
       "│ f64       ┆ f64       ┆          ┆           ┆   ┆ f64       ┆ f64       ┆ f64       ┆ str       │\n",
       "╞═══════════╪═══════════╪══════════╪═══════════╪═══╪═══════════╪═══════════╪═══════════╪═══════════╡\n",
       "│ -1.583665 ┆ -1.96068  ┆ #aaa     ┆ -120.92   ┆ … ┆ 278.0     ┆ 3.6908    ┆ 278800.0  ┆ NEAR      │\n",
       "│           ┆           ┆          ┆           ┆   ┆           ┆           ┆           ┆ OCEAN     │\n",
       "│ -3.077689 ┆ 0.377258  ┆ #aab     ┆ -122.42   ┆ … ┆ 563.0     ┆ 5.8783    ┆ 405100.0  ┆ NEAR      │\n",
       "│           ┆           ┆          ┆           ┆   ┆           ┆           ┆           ┆ OCEAN     │\n",
       "│ -0.438247 ┆ -2.980871 ┆ #aac     ┆ -119.77   ┆ … ┆ 1294.0    ┆ 2.4717    ┆ 295300.0  ┆ NEAR      │\n",
       "│           ┆           ┆          ┆           ┆   ┆           ┆           ┆           ┆ OCEAN     │\n",
       "│ -2.559761 ┆ 0.217853  ┆ #aad     ┆ -121.9    ┆ … ┆ 758.0     ┆ 6.6176    ┆ 276200.0  ┆ <1H OCEAN │\n",
       "│ 1.513944  ┆ -3.629118 ┆ #aae     ┆ -117.81   ┆ … ┆ 798.0     ┆ 10.157    ┆ 477100.0  ┆ <1H OCEAN │\n",
       "└───────────┴───────────┴──────────┴───────────┴───┴───────────┴───────────┴───────────┴───────────┘"
      ]
     },
     "execution_count": 8,
     "metadata": {},
     "output_type": "execute_result"
    }
   ],
   "source": [
    "import polars as pl\n",
    "\n",
    "# Load the CSV file\n",
    "df = pl.read_csv(\"data_california_housing.csv\")\n",
    "\n",
    "# Normalize longitude and latitude to range -5 to 5\n",
    "def normalize(series, new_min, new_max):\n",
    "    old_min = series.min()\n",
    "    old_max = series.max()\n",
    "    return ((series - old_min) / (old_max - old_min)) * (new_max - new_min) + new_min\n",
    "\n",
    "df = df.with_columns([\n",
    "    normalize(pl.col(\"longitude\"), -5, 5).alias(\"longitude_norm\"),\n",
    "    normalize(pl.col(\"latitude\"), -5, 5).alias(\"latitude_norm\")\n",
    "])\n",
    "\n",
    "# Reorder columns to place normalized columns first\n",
    "df = df.select([\"longitude_norm\", \"latitude_norm\"] + [col for col in df.columns if col not in [\"longitude_norm\", \"latitude_norm\"]])\n",
    "\n",
    "# Save the normalized dataframe\n",
    "df.write_csv(\"data_california_housing_normalized.csv\")\n",
    "\n",
    "# Display the first few rows of the dataframe\n",
    "df.head()"
   ]
  },
  {
   "cell_type": "code",
   "execution_count": null,
   "metadata": {},
   "outputs": [],
   "source": [
    "import polars as pl\n",
    "\n",
    "# Read the CSV data from file into a Polars DataFrame\n",
    "#df = pl.read_csv(\"data_california_housing.csv\")\n",
    "\n",
    "# Remove the first column\n",
    "df2 = df.drop(\"short_id\")\n",
    "\n",
    "df.write_csv(\"california_housing_without_id_string.csv\")"
   ]
  },
  {
   "cell_type": "code",
   "execution_count": null,
   "metadata": {},
   "outputs": [],
   "source": []
  }
 ],
 "metadata": {
  "kernelspec": {
   "display_name": ".venv",
   "language": "python",
   "name": "python3"
  },
  "language_info": {
   "codemirror_mode": {
    "name": "ipython",
    "version": 3
   },
   "file_extension": ".py",
   "mimetype": "text/x-python",
   "name": "python",
   "nbconvert_exporter": "python",
   "pygments_lexer": "ipython3",
   "version": "3.12.6"
  }
 },
 "nbformat": 4,
 "nbformat_minor": 2
}
