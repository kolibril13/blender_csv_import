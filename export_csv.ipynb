{
 "cells": [
  {
   "cell_type": "code",
   "execution_count": 64,
   "metadata": {},
   "outputs": [
    {
     "name": "stdout",
     "output_type": "stream",
     "text": [
      "shape: (8, 4)\n",
      "┌────────────────────┬───────┬──────────┬─────────────────────────────────┐\n",
      "│ position           ┆ hello ┆ world!!! ┆ advanced                        │\n",
      "│ ---                ┆ ---   ┆ ---      ┆ ---                             │\n",
      "│ array[f64, 3]      ┆ i64   ┆ bool     ┆ array[f64, 4]                   │\n",
      "╞════════════════════╪═══════╪══════════╪═════════════════════════════════╡\n",
      "│ [-1.0, -1.0, -1.0] ┆ 42    ┆ true     ┆ [0.992774, 0.11234, … 0.016647… │\n",
      "│ [-1.0, -1.0, 1.0]  ┆ 42    ┆ true     ┆ [0.992774, 0.11234, … 0.016647… │\n",
      "│ [-1.0, 1.0, -1.0]  ┆ 42    ┆ true     ┆ [0.992774, 0.11234, … 0.016647… │\n",
      "│ [-1.0, 1.0, 1.0]   ┆ 42    ┆ true     ┆ [0.992774, 0.11234, … 0.016647… │\n",
      "│ [1.0, -1.0, -1.0]  ┆ 42    ┆ true     ┆ [0.992774, 0.11234, … 0.016647… │\n",
      "│ [1.0, -1.0, 1.0]   ┆ 42    ┆ true     ┆ [0.992774, 0.11234, … 0.016647… │\n",
      "│ [1.0, 1.0, -1.0]   ┆ 42    ┆ true     ┆ [0.992774, 0.11234, … 0.016647… │\n",
      "│ [1.0, 1.0, 1.0]    ┆ 42    ┆ true     ┆ [0.992774, 0.11234, … 0.016647… │\n",
      "└────────────────────┴───────┴──────────┴─────────────────────────────────┘\n"
     ]
    }
   ],
   "source": [
    "import bpy\n",
    "import databpy as db\n",
    "import polars as pl\n",
    "\n",
    "obj = bpy.data.objects[\"Cube\"]\n",
    "evaluated_obj = db.evaluate_object(obj)\n",
    "mesh = evaluated_obj.to_mesh()\n",
    "\n",
    "# Collect all attribute data\n",
    "attribute_data = {}\n",
    "for attr in mesh.attributes:\n",
    "    if attr.name not in {'sharp_face', 'UVMap'} and not attr.name.startswith('.'):\n",
    "        a = db.named_attribute(evaluated_obj, attr.name)\n",
    "        attribute_data[attr.name] = a\n",
    "\n",
    "# Create polars DataFrame\n",
    "df = pl.DataFrame(attribute_data)\n",
    "\n",
    "# Sort columns so \"position\" is first\n",
    "if \"position\" in df.columns:\n",
    "    column_order = [\"position\"] + [col for col in df.columns if col != \"position\"]\n",
    "    df = df.select(column_order)\n",
    "\n",
    "print(df)"
   ]
  },
  {
   "cell_type": "code",
   "execution_count": 69,
   "metadata": {},
   "outputs": [
    {
     "name": "stdout",
     "output_type": "stream",
     "text": [
      "Column dtypes: [Array(Float64, shape=(3,)), Int64, Boolean, Array(Float64, shape=(4,))]\n",
      "Array column found: position with dtype Array(Float64, shape=(3,))\n",
      "Array column found: advanced with dtype Array(Float64, shape=(4,))\n",
      "Array columns: ['position', 'advanced']\n",
      "DataFrame after expansion:\n",
      "shape: (8, 9)\n",
      "┌───────────┬───────────┬───────────┬───────┬───┬───────────┬───────────┬───────────┬───────────┐\n",
      "│ position1 ┆ position2 ┆ position3 ┆ hello ┆ … ┆ advanced1 ┆ advanced2 ┆ advanced3 ┆ advanced4 │\n",
      "│ ---       ┆ ---       ┆ ---       ┆ ---   ┆   ┆ ---       ┆ ---       ┆ ---       ┆ ---       │\n",
      "│ f64       ┆ f64       ┆ f64       ┆ i64   ┆   ┆ f64       ┆ f64       ┆ f64       ┆ f64       │\n",
      "╞═══════════╪═══════════╪═══════════╪═══════╪═══╪═══════════╪═══════════╪═══════════╪═══════════╡\n",
      "│ -1.0      ┆ -1.0      ┆ -1.0      ┆ 42    ┆ … ┆ 0.992774  ┆ 0.11234   ┆ 0.038769  ┆ 0.016647  │\n",
      "│ -1.0      ┆ -1.0      ┆ 1.0       ┆ 42    ┆ … ┆ 0.992774  ┆ 0.11234   ┆ 0.038769  ┆ 0.016647  │\n",
      "│ -1.0      ┆ 1.0       ┆ -1.0      ┆ 42    ┆ … ┆ 0.992774  ┆ 0.11234   ┆ 0.038769  ┆ 0.016647  │\n",
      "│ -1.0      ┆ 1.0       ┆ 1.0       ┆ 42    ┆ … ┆ 0.992774  ┆ 0.11234   ┆ 0.038769  ┆ 0.016647  │\n",
      "│ 1.0       ┆ -1.0      ┆ -1.0      ┆ 42    ┆ … ┆ 0.992774  ┆ 0.11234   ┆ 0.038769  ┆ 0.016647  │\n",
      "│ 1.0       ┆ -1.0      ┆ 1.0       ┆ 42    ┆ … ┆ 0.992774  ┆ 0.11234   ┆ 0.038769  ┆ 0.016647  │\n",
      "│ 1.0       ┆ 1.0       ┆ -1.0      ┆ 42    ┆ … ┆ 0.992774  ┆ 0.11234   ┆ 0.038769  ┆ 0.016647  │\n",
      "│ 1.0       ┆ 1.0       ┆ 1.0       ┆ 42    ┆ … ┆ 0.992774  ┆ 0.11234   ┆ 0.038769  ┆ 0.016647  │\n",
      "└───────────┴───────────┴───────────┴───────┴───┴───────────┴───────────┴───────────┴───────────┘\n"
     ]
    }
   ],
   "source": [
    "# Check dtypes and expand array columns\n",
    "dtypes = df.dtypes\n",
    "print(\"Column dtypes:\", dtypes)\n",
    "\n",
    "# Get columns that are arrays and expand them\n",
    "array_columns = []\n",
    "expanded_df = df.clone()\n",
    "\n",
    "for i, dtype in enumerate(dtypes):\n",
    "    col_name = df.columns[i]\n",
    "    if str(dtype).startswith('Array'):\n",
    "        array_columns.append(col_name)\n",
    "        print(f\"Array column found: {col_name} with dtype {dtype}\")\n",
    "        \n",
    "        # Get the array length from the first non-null value\n",
    "        first_array = expanded_df.select(pl.col(col_name)).item(0, 0)\n",
    "        array_length = len(first_array)\n",
    "        \n",
    "        # Expand array into separate columns with indexed names\n",
    "        for j in range(array_length):\n",
    "            expanded_df = expanded_df.with_columns([\n",
    "                pl.col(col_name).arr.get(j).alias(f\"{col_name}{j+1}\")\n",
    "            ])\n",
    "        # Drop the original array column\n",
    "        expanded_df = expanded_df.drop(col_name)\n",
    "\n",
    "# Reorder columns to place position columns first\n",
    "position_columns = [col for col in expanded_df.columns if col.startswith('position')]\n",
    "other_columns = [col for col in expanded_df.columns if not col.startswith('position')]\n",
    "column_order = position_columns + other_columns\n",
    "expanded_df = expanded_df.select(column_order)\n",
    "\n",
    "print(\"Array columns:\", array_columns)\n",
    "print(\"DataFrame after expansion:\")\n",
    "print(expanded_df)"
   ]
  },
  {
   "cell_type": "code",
   "execution_count": 71,
   "metadata": {},
   "outputs": [
    {
     "name": "stdout",
     "output_type": "stream",
     "text": [
      "CSV written to: /var/folders/0n/w5m51rrn71db4cvkds08wdg80000gn/T/mesh_attributes.csv\n",
      "shape: (8, 9)\n",
      "┌───────────┬───────────┬───────────┬───────┬───┬───────────┬───────────┬───────────┬───────────┐\n",
      "│ position1 ┆ position2 ┆ position3 ┆ hello ┆ … ┆ advanced1 ┆ advanced2 ┆ advanced3 ┆ advanced4 │\n",
      "│ ---       ┆ ---       ┆ ---       ┆ ---   ┆   ┆ ---       ┆ ---       ┆ ---       ┆ ---       │\n",
      "│ f64       ┆ f64       ┆ f64       ┆ i64   ┆   ┆ f64       ┆ f64       ┆ f64       ┆ f64       │\n",
      "╞═══════════╪═══════════╪═══════════╪═══════╪═══╪═══════════╪═══════════╪═══════════╪═══════════╡\n",
      "│ -1.0      ┆ -1.0      ┆ -1.0      ┆ 42    ┆ … ┆ 0.992774  ┆ 0.11234   ┆ 0.038769  ┆ 0.016647  │\n",
      "│ -1.0      ┆ -1.0      ┆ 1.0       ┆ 42    ┆ … ┆ 0.992774  ┆ 0.11234   ┆ 0.038769  ┆ 0.016647  │\n",
      "│ -1.0      ┆ 1.0       ┆ -1.0      ┆ 42    ┆ … ┆ 0.992774  ┆ 0.11234   ┆ 0.038769  ┆ 0.016647  │\n",
      "│ -1.0      ┆ 1.0       ┆ 1.0       ┆ 42    ┆ … ┆ 0.992774  ┆ 0.11234   ┆ 0.038769  ┆ 0.016647  │\n",
      "│ 1.0       ┆ -1.0      ┆ -1.0      ┆ 42    ┆ … ┆ 0.992774  ┆ 0.11234   ┆ 0.038769  ┆ 0.016647  │\n",
      "│ 1.0       ┆ -1.0      ┆ 1.0       ┆ 42    ┆ … ┆ 0.992774  ┆ 0.11234   ┆ 0.038769  ┆ 0.016647  │\n",
      "│ 1.0       ┆ 1.0       ┆ -1.0      ┆ 42    ┆ … ┆ 0.992774  ┆ 0.11234   ┆ 0.038769  ┆ 0.016647  │\n",
      "│ 1.0       ┆ 1.0       ┆ 1.0       ┆ 42    ┆ … ┆ 0.992774  ┆ 0.11234   ┆ 0.038769  ┆ 0.016647  │\n",
      "└───────────┴───────────┴───────────┴───────┴───┴───────────┴───────────┴───────────┴───────────┘\n"
     ]
    }
   ],
   "source": [
    "import tempfile\n",
    "import os\n",
    "\n",
    "# Write to temporary file\n",
    "temp_dir = tempfile.gettempdir()\n",
    "temp_file = os.path.join(temp_dir, \"mesh_attributes.csv\")\n",
    "expanded_df.write_csv(temp_file)\n",
    "print(f\"CSV written to: {temp_file}\")\n",
    "print(expanded_df)"
   ]
  },
  {
   "cell_type": "code",
   "execution_count": 25,
   "metadata": {},
   "outputs": [
    {
     "name": "stdout",
     "output_type": "stream",
     "text": [
      "hello\n",
      "position\n",
      ".select_vert\n",
      "world!!!\n",
      ".edge_verts\n",
      ".select_edge\n",
      ".select_poly\n",
      "sharp_face\n",
      ".corner_vert\n",
      ".corner_edge\n",
      "UVMap\n"
     ]
    }
   ],
   "source": [
    "for attr in mesh.attributes:\n",
    "    print(attr.name)"
   ]
  },
  {
   "cell_type": "code",
   "execution_count": 26,
   "metadata": {},
   "outputs": [
    {
     "ename": "NamedAttributeError",
     "evalue": "The selected attribute 'hello' does not exist on the mesh.",
     "output_type": "error",
     "traceback": [
      "\u001b[0;31m---------------------------------------------------------------------------\u001b[0m",
      "\u001b[0;31mKeyError\u001b[0m                                  Traceback (most recent call last)",
      "File \u001b[0;32m~/Library/Application Support/Blender/4.4/extensions/.local/lib/python3.11/site-packages/databpy/attribute.py:520\u001b[0m, in \u001b[0;36mnamed_attribute\u001b[0;34m(obj, name, evaluate)\u001b[0m\n\u001b[1;32m    519\u001b[0m \u001b[38;5;28;01mtry\u001b[39;00m:\n\u001b[0;32m--> 520\u001b[0m     attr \u001b[38;5;241m=\u001b[39m Attribute(\u001b[43mobj\u001b[49m\u001b[38;5;241;43m.\u001b[39;49m\u001b[43mdata\u001b[49m\u001b[38;5;241;43m.\u001b[39;49m\u001b[43mattributes\u001b[49m\u001b[43m[\u001b[49m\u001b[43mname\u001b[49m\u001b[43m]\u001b[49m)\n\u001b[1;32m    521\u001b[0m \u001b[38;5;28;01mexcept\u001b[39;00m \u001b[38;5;167;01mKeyError\u001b[39;00m:\n",
      "\u001b[0;31mKeyError\u001b[0m: 'bpy_prop_collection[key]: key \"hello\" not found'",
      "\nDuring handling of the above exception, another exception occurred:\n",
      "\u001b[0;31mNamedAttributeError\u001b[0m                       Traceback (most recent call last)",
      "Cell \u001b[0;32mIn[26], line 3\u001b[0m\n\u001b[1;32m      1\u001b[0m \u001b[38;5;28;01mfor\u001b[39;00m attr \u001b[38;5;129;01min\u001b[39;00m mesh\u001b[38;5;241m.\u001b[39mattributes:\n\u001b[1;32m      2\u001b[0m     \u001b[38;5;28;01mif\u001b[39;00m attr\u001b[38;5;241m.\u001b[39mname \u001b[38;5;129;01mnot\u001b[39;00m \u001b[38;5;129;01min\u001b[39;00m {\u001b[38;5;124m'\u001b[39m\u001b[38;5;124msharp_face\u001b[39m\u001b[38;5;124m'\u001b[39m, \u001b[38;5;124m'\u001b[39m\u001b[38;5;124mUVMap\u001b[39m\u001b[38;5;124m'\u001b[39m} \u001b[38;5;129;01mand\u001b[39;00m \u001b[38;5;129;01mnot\u001b[39;00m attr\u001b[38;5;241m.\u001b[39mname\u001b[38;5;241m.\u001b[39mstartswith(\u001b[38;5;124m'\u001b[39m\u001b[38;5;124m.\u001b[39m\u001b[38;5;124m'\u001b[39m):\n\u001b[0;32m----> 3\u001b[0m         a \u001b[38;5;241m=\u001b[39m \u001b[43mdb\u001b[49m\u001b[38;5;241;43m.\u001b[39;49m\u001b[43mnamed_attribute\u001b[49m\u001b[43m(\u001b[49m\u001b[43mobj\u001b[49m\u001b[43m,\u001b[49m\u001b[43m \u001b[49m\u001b[43mattr\u001b[49m\u001b[38;5;241;43m.\u001b[39;49m\u001b[43mname\u001b[49m\u001b[43m)\u001b[49m\n\u001b[1;32m      4\u001b[0m         \u001b[38;5;28mprint\u001b[39m(attr\u001b[38;5;241m.\u001b[39mname \u001b[38;5;241m+\u001b[39m \u001b[38;5;124m\"\u001b[39m\u001b[38;5;130;01m\\n\u001b[39;00m\u001b[38;5;124m\"\u001b[39m \u001b[38;5;241m+\u001b[39m \u001b[38;5;28mstr\u001b[39m(a))\n",
      "File \u001b[0;32m~/Library/Application Support/Blender/4.4/extensions/.local/lib/python3.11/site-packages/databpy/attribute.py:526\u001b[0m, in \u001b[0;36mnamed_attribute\u001b[0;34m(obj, name, evaluate)\u001b[0m\n\u001b[1;32m    523\u001b[0m     \u001b[38;5;28;01mif\u001b[39;00m verbose:\n\u001b[1;32m    524\u001b[0m         message \u001b[38;5;241m+\u001b[39m\u001b[38;5;241m=\u001b[39m \u001b[38;5;124mf\u001b[39m\u001b[38;5;124m\"\u001b[39m\u001b[38;5;124mPossible attributes are: \u001b[39m\u001b[38;5;132;01m{\u001b[39;00mobj\u001b[38;5;241m.\u001b[39mdata\u001b[38;5;241m.\u001b[39mattributes\u001b[38;5;241m.\u001b[39mkeys()\u001b[38;5;132;01m}\u001b[39;00m\u001b[38;5;124m\"\u001b[39m\n\u001b[0;32m--> 526\u001b[0m     \u001b[38;5;28;01mraise\u001b[39;00m NamedAttributeError(message)\n\u001b[1;32m    528\u001b[0m \u001b[38;5;28;01mreturn\u001b[39;00m attr\u001b[38;5;241m.\u001b[39mas_array()\n",
      "\u001b[0;31mNamedAttributeError\u001b[0m: The selected attribute 'hello' does not exist on the mesh."
     ]
    }
   ],
   "source": [
    "for attr in mesh.attributes:\n",
    "    if attr.name not in {'sharp_face', 'UVMap'} and not attr.name.startswith('.'):\n",
    "        a = db.named_attribute(obj, attr.name)\n",
    "        print(attr.name + \"\\n\" + str(a))"
   ]
  },
  {
   "cell_type": "code",
   "execution_count": null,
   "metadata": {},
   "outputs": [],
   "source": []
  }
 ],
 "metadata": {
  "kernelspec": {
   "display_name": "Python 3 (ipykernel)",
   "language": "python",
   "name": "python3"
  },
  "language_info": {
   "codemirror_mode": {
    "name": "ipython",
    "version": 3
   },
   "file_extension": ".py",
   "mimetype": "text/x-python",
   "name": "python",
   "nbconvert_exporter": "python",
   "pygments_lexer": "ipython3",
   "version": "3.11.11"
  }
 },
 "nbformat": 4,
 "nbformat_minor": 2
}
