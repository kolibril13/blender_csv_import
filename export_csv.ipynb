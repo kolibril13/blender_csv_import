{
 "cells": [
  {
   "cell_type": "code",
   "execution_count": 27,
   "metadata": {},
   "outputs": [
    {
     "name": "stdout",
     "output_type": "stream",
     "text": [
      "shape: (8, 3)\n",
      "┌────────────────────┬───────┬──────────┐\n",
      "│ position           ┆ hello ┆ world!!! │\n",
      "│ ---                ┆ ---   ┆ ---      │\n",
      "│ array[f64, 3]      ┆ i64   ┆ bool     │\n",
      "╞════════════════════╪═══════╪══════════╡\n",
      "│ [-1.0, -1.0, -1.0] ┆ 42    ┆ true     │\n",
      "│ [-1.0, -1.0, 1.0]  ┆ 42    ┆ true     │\n",
      "│ [-1.0, 1.0, -1.0]  ┆ 42    ┆ true     │\n",
      "│ [-1.0, 1.0, 1.0]   ┆ 42    ┆ true     │\n",
      "│ [1.0, -1.0, -1.0]  ┆ 42    ┆ true     │\n",
      "│ [1.0, -1.0, 1.0]   ┆ 42    ┆ true     │\n",
      "│ [1.0, 1.0, -1.0]   ┆ 42    ┆ true     │\n",
      "│ [1.0, 1.0, 1.0]    ┆ 42    ┆ true     │\n",
      "└────────────────────┴───────┴──────────┘\n"
     ]
    }
   ],
   "source": [
    "import bpy\n",
    "import databpy as db\n",
    "import polars as pl\n",
    "\n",
    "obj = bpy.data.objects[\"Cube\"]\n",
    "evaluated_obj = db.evaluate_object(obj)\n",
    "mesh = evaluated_obj.to_mesh()\n",
    "\n",
    "# Collect all attribute data\n",
    "attribute_data = {}\n",
    "for attr in mesh.attributes:\n",
    "    if attr.name not in {'sharp_face', 'UVMap'} and not attr.name.startswith('.'):\n",
    "        a = db.named_attribute(evaluated_obj, attr.name)\n",
    "        attribute_data[attr.name] = a\n",
    "\n",
    "# Create polars DataFrame\n",
    "df = pl.DataFrame(attribute_data)\n",
    "\n",
    "# Sort columns so \"position\" is first\n",
    "if \"position\" in df.columns:\n",
    "    column_order = [\"position\"] + [col for col in df.columns if col != \"position\"]\n",
    "    df = df.select(column_order)\n",
    "\n",
    "print(df)"
   ]
  },
  {
   "cell_type": "code",
   "execution_count": 24,
   "metadata": {},
   "outputs": [
    {
     "ename": "ComputeError",
     "evalue": "datatype array[f64, 3] cannot be written to CSV\n\nConsider using JSON or a binary format.",
     "output_type": "error",
     "traceback": [
      "\u001b[0;31m---------------------------------------------------------------------------\u001b[0m",
      "\u001b[0;31mComputeError\u001b[0m                              Traceback (most recent call last)",
      "\u001b[0;32m/var/folders/0n/w5m51rrn71db4cvkds08wdg80000gn/T/ipykernel_10042/3097064528.py\u001b[0m in \u001b[0;36m?\u001b[0;34m()\u001b[0m\n\u001b[1;32m      3\u001b[0m \u001b[0;34m\u001b[0m\u001b[0m\n\u001b[1;32m      4\u001b[0m \u001b[0;31m# Write to temporary file\u001b[0m\u001b[0;34m\u001b[0m\u001b[0;34m\u001b[0m\u001b[0m\n\u001b[1;32m      5\u001b[0m \u001b[0mtemp_dir\u001b[0m \u001b[0;34m=\u001b[0m \u001b[0mtempfile\u001b[0m\u001b[0;34m.\u001b[0m\u001b[0mgettempdir\u001b[0m\u001b[0;34m(\u001b[0m\u001b[0;34m)\u001b[0m\u001b[0;34m\u001b[0m\u001b[0;34m\u001b[0m\u001b[0m\n\u001b[1;32m      6\u001b[0m \u001b[0mtemp_file\u001b[0m \u001b[0;34m=\u001b[0m \u001b[0mos\u001b[0m\u001b[0;34m.\u001b[0m\u001b[0mpath\u001b[0m\u001b[0;34m.\u001b[0m\u001b[0mjoin\u001b[0m\u001b[0;34m(\u001b[0m\u001b[0mtemp_dir\u001b[0m\u001b[0;34m,\u001b[0m \u001b[0;34m\"mesh_attributes.csv\"\u001b[0m\u001b[0;34m)\u001b[0m\u001b[0;34m\u001b[0m\u001b[0;34m\u001b[0m\u001b[0m\n\u001b[0;32m----> 7\u001b[0;31m \u001b[0mdf\u001b[0m\u001b[0;34m.\u001b[0m\u001b[0mwrite_csv\u001b[0m\u001b[0;34m(\u001b[0m\u001b[0mtemp_file\u001b[0m\u001b[0;34m)\u001b[0m\u001b[0;34m\u001b[0m\u001b[0;34m\u001b[0m\u001b[0m\n\u001b[0m\u001b[1;32m      8\u001b[0m \u001b[0mprint\u001b[0m\u001b[0;34m(\u001b[0m\u001b[0;34mf\"CSV written to: {temp_file}\"\u001b[0m\u001b[0;34m)\u001b[0m\u001b[0;34m\u001b[0m\u001b[0;34m\u001b[0m\u001b[0m\n\u001b[1;32m      9\u001b[0m \u001b[0mprint\u001b[0m\u001b[0;34m(\u001b[0m\u001b[0mdf\u001b[0m\u001b[0;34m)\u001b[0m\u001b[0;34m\u001b[0m\u001b[0;34m\u001b[0m\u001b[0m\n",
      "\u001b[0;32m~/Library/Application Support/Blender/4.4/extensions/.local/lib/python3.11/site-packages/polars/dataframe/frame.py\u001b[0m in \u001b[0;36m?\u001b[0;34m(***failed resolving arguments***)\u001b[0m\n\u001b[1;32m   2990\u001b[0m         \u001b[0;32melse\u001b[0m\u001b[0;34m:\u001b[0m\u001b[0;34m\u001b[0m\u001b[0;34m\u001b[0m\u001b[0m\n\u001b[1;32m   2991\u001b[0m             \u001b[0;31m# Handle empty dict input\u001b[0m\u001b[0;34m\u001b[0m\u001b[0;34m\u001b[0m\u001b[0m\n\u001b[1;32m   2992\u001b[0m             \u001b[0mstorage_options\u001b[0m \u001b[0;34m=\u001b[0m \u001b[0;32mNone\u001b[0m\u001b[0;34m\u001b[0m\u001b[0;34m\u001b[0m\u001b[0m\n\u001b[1;32m   2993\u001b[0m \u001b[0;34m\u001b[0m\u001b[0m\n\u001b[0;32m-> 2994\u001b[0;31m         self._df.write_csv(\n\u001b[0m\u001b[1;32m   2995\u001b[0m             \u001b[0mfile\u001b[0m\u001b[0;34m,\u001b[0m\u001b[0;34m\u001b[0m\u001b[0;34m\u001b[0m\u001b[0m\n\u001b[1;32m   2996\u001b[0m             \u001b[0minclude_bom\u001b[0m\u001b[0;34m,\u001b[0m\u001b[0;34m\u001b[0m\u001b[0;34m\u001b[0m\u001b[0m\n\u001b[1;32m   2997\u001b[0m             \u001b[0minclude_header\u001b[0m\u001b[0;34m,\u001b[0m\u001b[0;34m\u001b[0m\u001b[0;34m\u001b[0m\u001b[0m\n",
      "\u001b[0;31mComputeError\u001b[0m: datatype array[f64, 3] cannot be written to CSV\n\nConsider using JSON or a binary format."
     ]
    }
   ],
   "source": [
    "import tempfile\n",
    "import os\n",
    "\n",
    "# Write to temporary file\n",
    "temp_dir = tempfile.gettempdir()\n",
    "temp_file = os.path.join(temp_dir, \"mesh_attributes.csv\")\n",
    "df.write_csv(temp_file)\n",
    "print(f\"CSV written to: {temp_file}\")\n",
    "print(df)"
   ]
  },
  {
   "cell_type": "code",
   "execution_count": 25,
   "metadata": {},
   "outputs": [
    {
     "name": "stdout",
     "output_type": "stream",
     "text": [
      "hello\n",
      "position\n",
      ".select_vert\n",
      "world!!!\n",
      ".edge_verts\n",
      ".select_edge\n",
      ".select_poly\n",
      "sharp_face\n",
      ".corner_vert\n",
      ".corner_edge\n",
      "UVMap\n"
     ]
    }
   ],
   "source": [
    "for attr in mesh.attributes:\n",
    "    print(attr.name)"
   ]
  },
  {
   "cell_type": "code",
   "execution_count": 26,
   "metadata": {},
   "outputs": [
    {
     "ename": "NamedAttributeError",
     "evalue": "The selected attribute 'hello' does not exist on the mesh.",
     "output_type": "error",
     "traceback": [
      "\u001b[0;31m---------------------------------------------------------------------------\u001b[0m",
      "\u001b[0;31mKeyError\u001b[0m                                  Traceback (most recent call last)",
      "File \u001b[0;32m~/Library/Application Support/Blender/4.4/extensions/.local/lib/python3.11/site-packages/databpy/attribute.py:520\u001b[0m, in \u001b[0;36mnamed_attribute\u001b[0;34m(obj, name, evaluate)\u001b[0m\n\u001b[1;32m    519\u001b[0m \u001b[38;5;28;01mtry\u001b[39;00m:\n\u001b[0;32m--> 520\u001b[0m     attr \u001b[38;5;241m=\u001b[39m Attribute(\u001b[43mobj\u001b[49m\u001b[38;5;241;43m.\u001b[39;49m\u001b[43mdata\u001b[49m\u001b[38;5;241;43m.\u001b[39;49m\u001b[43mattributes\u001b[49m\u001b[43m[\u001b[49m\u001b[43mname\u001b[49m\u001b[43m]\u001b[49m)\n\u001b[1;32m    521\u001b[0m \u001b[38;5;28;01mexcept\u001b[39;00m \u001b[38;5;167;01mKeyError\u001b[39;00m:\n",
      "\u001b[0;31mKeyError\u001b[0m: 'bpy_prop_collection[key]: key \"hello\" not found'",
      "\nDuring handling of the above exception, another exception occurred:\n",
      "\u001b[0;31mNamedAttributeError\u001b[0m                       Traceback (most recent call last)",
      "Cell \u001b[0;32mIn[26], line 3\u001b[0m\n\u001b[1;32m      1\u001b[0m \u001b[38;5;28;01mfor\u001b[39;00m attr \u001b[38;5;129;01min\u001b[39;00m mesh\u001b[38;5;241m.\u001b[39mattributes:\n\u001b[1;32m      2\u001b[0m     \u001b[38;5;28;01mif\u001b[39;00m attr\u001b[38;5;241m.\u001b[39mname \u001b[38;5;129;01mnot\u001b[39;00m \u001b[38;5;129;01min\u001b[39;00m {\u001b[38;5;124m'\u001b[39m\u001b[38;5;124msharp_face\u001b[39m\u001b[38;5;124m'\u001b[39m, \u001b[38;5;124m'\u001b[39m\u001b[38;5;124mUVMap\u001b[39m\u001b[38;5;124m'\u001b[39m} \u001b[38;5;129;01mand\u001b[39;00m \u001b[38;5;129;01mnot\u001b[39;00m attr\u001b[38;5;241m.\u001b[39mname\u001b[38;5;241m.\u001b[39mstartswith(\u001b[38;5;124m'\u001b[39m\u001b[38;5;124m.\u001b[39m\u001b[38;5;124m'\u001b[39m):\n\u001b[0;32m----> 3\u001b[0m         a \u001b[38;5;241m=\u001b[39m \u001b[43mdb\u001b[49m\u001b[38;5;241;43m.\u001b[39;49m\u001b[43mnamed_attribute\u001b[49m\u001b[43m(\u001b[49m\u001b[43mobj\u001b[49m\u001b[43m,\u001b[49m\u001b[43m \u001b[49m\u001b[43mattr\u001b[49m\u001b[38;5;241;43m.\u001b[39;49m\u001b[43mname\u001b[49m\u001b[43m)\u001b[49m\n\u001b[1;32m      4\u001b[0m         \u001b[38;5;28mprint\u001b[39m(attr\u001b[38;5;241m.\u001b[39mname \u001b[38;5;241m+\u001b[39m \u001b[38;5;124m\"\u001b[39m\u001b[38;5;130;01m\\n\u001b[39;00m\u001b[38;5;124m\"\u001b[39m \u001b[38;5;241m+\u001b[39m \u001b[38;5;28mstr\u001b[39m(a))\n",
      "File \u001b[0;32m~/Library/Application Support/Blender/4.4/extensions/.local/lib/python3.11/site-packages/databpy/attribute.py:526\u001b[0m, in \u001b[0;36mnamed_attribute\u001b[0;34m(obj, name, evaluate)\u001b[0m\n\u001b[1;32m    523\u001b[0m     \u001b[38;5;28;01mif\u001b[39;00m verbose:\n\u001b[1;32m    524\u001b[0m         message \u001b[38;5;241m+\u001b[39m\u001b[38;5;241m=\u001b[39m \u001b[38;5;124mf\u001b[39m\u001b[38;5;124m\"\u001b[39m\u001b[38;5;124mPossible attributes are: \u001b[39m\u001b[38;5;132;01m{\u001b[39;00mobj\u001b[38;5;241m.\u001b[39mdata\u001b[38;5;241m.\u001b[39mattributes\u001b[38;5;241m.\u001b[39mkeys()\u001b[38;5;132;01m}\u001b[39;00m\u001b[38;5;124m\"\u001b[39m\n\u001b[0;32m--> 526\u001b[0m     \u001b[38;5;28;01mraise\u001b[39;00m NamedAttributeError(message)\n\u001b[1;32m    528\u001b[0m \u001b[38;5;28;01mreturn\u001b[39;00m attr\u001b[38;5;241m.\u001b[39mas_array()\n",
      "\u001b[0;31mNamedAttributeError\u001b[0m: The selected attribute 'hello' does not exist on the mesh."
     ]
    }
   ],
   "source": [
    "for attr in mesh.attributes:\n",
    "    if attr.name not in {'sharp_face', 'UVMap'} and not attr.name.startswith('.'):\n",
    "        a = db.named_attribute(obj, attr.name)\n",
    "        print(attr.name + \"\\n\" + str(a))"
   ]
  },
  {
   "cell_type": "code",
   "execution_count": null,
   "metadata": {},
   "outputs": [],
   "source": []
  }
 ],
 "metadata": {
  "kernelspec": {
   "display_name": "Python 3 (ipykernel)",
   "language": "python",
   "name": "python3"
  },
  "language_info": {
   "codemirror_mode": {
    "name": "ipython",
    "version": 3
   },
   "file_extension": ".py",
   "mimetype": "text/x-python",
   "name": "python",
   "nbconvert_exporter": "python",
   "pygments_lexer": "ipython3",
   "version": "3.11.11"
  }
 },
 "nbformat": 4,
 "nbformat_minor": 2
}
