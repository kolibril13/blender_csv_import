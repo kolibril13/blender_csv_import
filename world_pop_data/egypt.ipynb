{
 "cells": [
  {
   "cell_type": "code",
   "execution_count": 16,
   "metadata": {},
   "outputs": [
    {
     "data": {
      "text/html": [
       "<div><style>\n",
       ".dataframe > thead > tr,\n",
       ".dataframe > tbody > tr {\n",
       "  text-align: right;\n",
       "  white-space: pre-wrap;\n",
       "}\n",
       "</style>\n",
       "<small>shape: (5, 94)</small><table border=\"1\" class=\"dataframe\"><thead><tr><th>Index</th><th>Country Code</th><th>Country or area</th><th>City Code</th><th>Urban Agglomeration</th><th>Note</th><th>Latitude</th><th>Longitude</th><th>1950</th><th>1951</th><th>1952</th><th>1953</th><th>1954</th><th>1955</th><th>1956</th><th>1957</th><th>1958</th><th>1959</th><th>1960</th><th>1961</th><th>1962</th><th>1963</th><th>1964</th><th>1965</th><th>1966</th><th>1967</th><th>1968</th><th>1969</th><th>1970</th><th>1971</th><th>1972</th><th>1973</th><th>1974</th><th>1975</th><th>1976</th><th>1977</th><th>1978</th><th>&hellip;</th><th>1999</th><th>2000</th><th>2001</th><th>2002</th><th>2003</th><th>2004</th><th>2005</th><th>2006</th><th>2007</th><th>2008</th><th>2009</th><th>2010</th><th>2011</th><th>2012</th><th>2013</th><th>2014</th><th>2015</th><th>2016</th><th>2017</th><th>2018</th><th>2019</th><th>2020</th><th>2021</th><th>2022</th><th>2023</th><th>2024</th><th>2025</th><th>2026</th><th>2027</th><th>2028</th><th>2029</th><th>2030</th><th>2031</th><th>2032</th><th>2033</th><th>2034</th><th>2035</th></tr><tr><td>i64</td><td>i64</td><td>str</td><td>i64</td><td>str</td><td>str</td><td>f64</td><td>f64</td><td>f64</td><td>f64</td><td>f64</td><td>f64</td><td>f64</td><td>f64</td><td>f64</td><td>f64</td><td>f64</td><td>f64</td><td>f64</td><td>f64</td><td>f64</td><td>f64</td><td>f64</td><td>f64</td><td>f64</td><td>f64</td><td>f64</td><td>f64</td><td>f64</td><td>f64</td><td>f64</td><td>f64</td><td>f64</td><td>f64</td><td>f64</td><td>f64</td><td>f64</td><td>&hellip;</td><td>f64</td><td>f64</td><td>f64</td><td>f64</td><td>f64</td><td>f64</td><td>f64</td><td>f64</td><td>f64</td><td>f64</td><td>f64</td><td>f64</td><td>f64</td><td>f64</td><td>f64</td><td>f64</td><td>f64</td><td>f64</td><td>f64</td><td>f64</td><td>f64</td><td>f64</td><td>f64</td><td>f64</td><td>f64</td><td>f64</td><td>f64</td><td>f64</td><td>f64</td><td>f64</td><td>f64</td><td>f64</td><td>f64</td><td>f64</td><td>f64</td><td>f64</td><td>f64</td></tr></thead><tbody><tr><td>1</td><td>4</td><td>&quot;Afghanistan&quot;</td><td>20001</td><td>&quot;Herat&quot;</td><td>null</td><td>34.34817</td><td>62.19967</td><td>82.468</td><td>83.114</td><td>83.767</td><td>84.422</td><td>85.084</td><td>85.751</td><td>86.424</td><td>87.101</td><td>87.783</td><td>88.472</td><td>89.166</td><td>89.864</td><td>90.568</td><td>91.278</td><td>91.995</td><td>92.715</td><td>93.441</td><td>94.878</td><td>97.063</td><td>99.292</td><td>101.576</td><td>103.912</td><td>107.154</td><td>111.371</td><td>115.76</td><td>120.323</td><td>125.071</td><td>129.994</td><td>135.117</td><td>&hellip;</td><td>228.361</td><td>233.991</td><td>239.744</td><td>245.647</td><td>251.695</td><td>261.559</td><td>275.678</td><td>290.58</td><td>306.287</td><td>322.868</td><td>340.296</td><td>358.691</td><td>378.081</td><td>398.548</td><td>420.061</td><td>442.768</td><td>466.703</td><td>491.967</td><td>518.599</td><td>546.672</td><td>575.806</td><td>605.575</td><td>635.579</td><td>665.477</td><td>695.043</td><td>724.172</td><td>752.91</td><td>781.38</td><td>809.8</td><td>838.394</td><td>867.422</td><td>897.041</td><td>927.393</td><td>958.549</td><td>990.635</td><td>1023.636</td><td>1057.573</td></tr><tr><td>2</td><td>4</td><td>&quot;Afghanistan&quot;</td><td>20002</td><td>&quot;Kabul&quot;</td><td>null</td><td>34.528887</td><td>69.17246</td><td>170.784</td><td>179.779</td><td>189.26</td><td>199.213</td><td>209.705</td><td>220.749</td><td>232.391</td><td>244.613</td><td>257.496</td><td>271.057</td><td>285.352</td><td>300.359</td><td>316.177</td><td>332.829</td><td>350.382</td><td>368.809</td><td>388.232</td><td>408.087</td><td>428.363</td><td>449.585</td><td>471.891</td><td>495.303</td><td>528.508</td><td>573.161</td><td>621.656</td><td>674.254</td><td>731.385</td><td>793.178</td><td>860.289</td><td>&hellip;</td><td>2298.059</td><td>2401.109</td><td>2508.477</td><td>2620.804</td><td>2738.161</td><td>2834.061</td><td>2905.178</td><td>2978.181</td><td>3053.018</td><td>3129.844</td><td>3208.383</td><td>3289.005</td><td>3371.653</td><td>3456.496</td><td>3543.232</td><td>3632.269</td><td>3723.543</td><td>3817.241</td><td>3913.297</td><td>4011.77</td><td>4114.03</td><td>4221.532</td><td>4335.77</td><td>4457.882</td><td>4588.666</td><td>4728.384</td><td>4877.024</td><td>5034.106</td><td>5199.155</td><td>5371.55</td><td>5551.063</td><td>5737.138</td><td>5929.531</td><td>6127.953</td><td>6332.756</td><td>6543.594</td><td>6760.5</td></tr><tr><td>3</td><td>4</td><td>&quot;Afghanistan&quot;</td><td>20003</td><td>&quot;Kandahar&quot;</td><td>null</td><td>31.61332</td><td>65.71013</td><td>82.199</td><td>83.663</td><td>85.155</td><td>86.67</td><td>88.214</td><td>89.785</td><td>91.387</td><td>93.012</td><td>94.669</td><td>96.355</td><td>98.074</td><td>99.818</td><td>101.596</td><td>103.406</td><td>105.25</td><td>107.123</td><td>109.031</td><td>112.297</td><td>117.055</td><td>122.002</td><td>127.164</td><td>132.545</td><td>137.853</td><td>143.036</td><td>148.423</td><td>154.012</td><td>159.819</td><td>165.829</td><td>172.074</td><td>&hellip;</td><td>290.3</td><td>297.456</td><td>304.767</td><td>312.268</td><td>319.954</td><td>328.115</td><td>336.746</td><td>345.617</td><td>354.721</td><td>364.078</td><td>373.655</td><td>383.498</td><td>393.6</td><td>403.983</td><td>414.61</td><td>425.532</td><td>436.741</td><td>448.262</td><td>460.087</td><td>472.224</td><td>484.812</td><td>498.002</td><td>511.949</td><td>526.775</td><td>542.565</td><td>559.349</td><td>577.128</td><td>595.853</td><td>615.48</td><td>635.944</td><td>657.23</td><td>679.278</td><td>702.066</td><td>725.563</td><td>749.814</td><td>774.779</td><td>800.461</td></tr><tr><td>4</td><td>4</td><td>&quot;Afghanistan&quot;</td><td>20004</td><td>&quot;Mazar-e Sharif&quot;</td><td>null</td><td>36.70904</td><td>67.11087</td><td>30.0</td><td>31.308</td><td>32.676</td><td>34.099</td><td>35.586</td><td>37.139</td><td>38.761</td><td>40.449</td><td>42.213</td><td>44.054</td><td>45.979</td><td>47.981</td><td>50.074</td><td>52.258</td><td>54.541</td><td>56.916</td><td>59.399</td><td>61.989</td><td>64.697</td><td>67.515</td><td>70.46</td><td>73.533</td><td>76.745</td><td>80.087</td><td>83.58</td><td>87.226</td><td>91.036</td><td>95.001</td><td>99.144</td><td>&hellip;</td><td>168.224</td><td>172.372</td><td>176.61</td><td>180.958</td><td>185.413</td><td>193.721</td><td>206.403</td><td>219.935</td><td>234.353</td><td>249.739</td><td>266.088</td><td>283.532</td><td>302.12</td><td>321.955</td><td>343.032</td><td>365.52</td><td>389.483</td><td>415.053</td><td>442.302</td><td>471.339</td><td>501.665</td><td>532.689</td><td>563.825</td><td>594.551</td><td>624.5</td><td>653.486</td><td>681.531</td><td>708.798</td><td>735.572</td><td>762.162</td><td>788.909</td><td>816.04</td><td>843.747</td><td>872.137</td><td>901.348</td><td>931.381</td><td>962.262</td></tr><tr><td>5</td><td>8</td><td>&quot;Albania&quot;</td><td>20005</td><td>&quot;Tiranë (Tirana)&quot;</td><td>null</td><td>41.3275</td><td>19.81889</td><td>84.513</td><td>88.866</td><td>93.08</td><td>97.481</td><td>102.097</td><td>106.932</td><td>112.001</td><td>117.295</td><td>122.847</td><td>128.662</td><td>134.761</td><td>137.714</td><td>139.561</td><td>141.434</td><td>143.334</td><td>145.255</td><td>147.203</td><td>149.178</td><td>151.183</td><td>153.497</td><td>156.734</td><td>160.04</td><td>163.42</td><td>166.862</td><td>170.381</td><td>173.975</td><td>177.649</td><td>181.391</td><td>185.217</td><td>&hellip;</td><td>325.262</td><td>335.336</td><td>344.7</td><td>351.285</td><td>357.995</td><td>364.843</td><td>371.803</td><td>378.905</td><td>386.143</td><td>393.529</td><td>401.036</td><td>408.697</td><td>416.504</td><td>424.471</td><td>432.59</td><td>440.865</td><td>449.298</td><td>457.892</td><td>466.651</td><td>475.577</td><td>484.624</td><td>493.712</td><td>502.734</td><td>511.559</td><td>520.059</td><td>528.127</td><td>535.702</td><td>542.74</td><td>549.219</td><td>555.132</td><td>560.491</td><td>565.301</td><td>569.577</td><td>573.332</td><td>576.588</td><td>579.349</td><td>581.626</td></tr></tbody></table></div>"
      ],
      "text/plain": [
       "shape: (5, 94)\n",
       "┌───────┬──────────────┬───────────────┬───────────┬───┬──────────┬──────────┬──────────┬──────────┐\n",
       "│ Index ┆ Country Code ┆ Country or    ┆ City Code ┆ … ┆ 2032     ┆ 2033     ┆ 2034     ┆ 2035     │\n",
       "│ ---   ┆ ---          ┆ area          ┆ ---       ┆   ┆ ---      ┆ ---      ┆ ---      ┆ ---      │\n",
       "│ i64   ┆ i64          ┆ ---           ┆ i64       ┆   ┆ f64      ┆ f64      ┆ f64      ┆ f64      │\n",
       "│       ┆              ┆ str           ┆           ┆   ┆          ┆          ┆          ┆          │\n",
       "╞═══════╪══════════════╪═══════════════╪═══════════╪═══╪══════════╪══════════╪══════════╪══════════╡\n",
       "│ 1     ┆ 4            ┆ Afghanistan   ┆ 20001     ┆ … ┆ 958.549  ┆ 990.635  ┆ 1023.636 ┆ 1057.573 │\n",
       "│ 2     ┆ 4            ┆ Afghanistan   ┆ 20002     ┆ … ┆ 6127.953 ┆ 6332.756 ┆ 6543.594 ┆ 6760.5   │\n",
       "│ 3     ┆ 4            ┆ Afghanistan   ┆ 20003     ┆ … ┆ 725.563  ┆ 749.814  ┆ 774.779  ┆ 800.461  │\n",
       "│ 4     ┆ 4            ┆ Afghanistan   ┆ 20004     ┆ … ┆ 872.137  ┆ 901.348  ┆ 931.381  ┆ 962.262  │\n",
       "│ 5     ┆ 8            ┆ Albania       ┆ 20005     ┆ … ┆ 573.332  ┆ 576.588  ┆ 579.349  ┆ 581.626  │\n",
       "└───────┴──────────────┴───────────────┴───────────┴───┴──────────┴──────────┴──────────┴──────────┘"
      ]
     },
     "execution_count": 16,
     "metadata": {},
     "output_type": "execute_result"
    }
   ],
   "source": [
    "import polars as pl\n",
    "\n",
    "#!uv pip install fastexcel \n",
    "#!uv pip install pyarrow\n",
    "\n",
    "# Load the Excel file\n",
    "df = pl.read_excel(\n",
    "    \"WUP2018-F22-Cities_Over_300K_Annual.xls\", \n",
    "    read_options={\"skip_rows\": 16},  # Skip rows up to the header\n",
    "    has_header=False,  # Indicate no header is currently in use\n",
    ")\n",
    "\n",
    "# from https://population.un.org/wup/downloads \n",
    "# -> Urban Agglomerations\n",
    "# -> File 22: Annual Population of Urban Agglomerations with 300,000 Inhabitants or More in 2018, by country, 1950-2035 (thousands)\n",
    "\n",
    "\n",
    "# Use the first row as headers and drop it\n",
    "df.columns = [str(x) for x in df.row(0)]\n",
    "df = df[1:]\n",
    "\n",
    "# Rename floatlike column names such as \"1950.0\" → \"1950\"\n",
    "df.columns = [\n",
    "    str(int(float(col))) if col.endswith(\".xx0\") and col.replace(\".0\", \"\").isdigit() else col \n",
    "    for col in df.columns\n",
    "]\n",
    "\n",
    "# Cast Index, Country Code, City Code to integers; Latitude & Longitude to strings\n",
    "df = df.with_columns(\n",
    "    pl.col(\"Index\").cast(pl.Int64),\n",
    "    pl.col(\"Country Code\").cast(pl.Int64),\n",
    "    pl.col(\"City Code\").cast(pl.Int64),\n",
    "    pl.col(\"Latitude\").cast(pl.Float64),\n",
    "    pl.col(\"Longitude\").cast(pl.Float64),\n",
    ")\n",
    "\n",
    "df.head()"
   ]
  },
  {
   "cell_type": "code",
   "execution_count": 17,
   "metadata": {},
   "outputs": [],
   "source": [
    "from csv_importer.parsers import polars_df_to_bob"
   ]
  },
  {
   "cell_type": "code",
   "execution_count": 18,
   "metadata": {},
   "outputs": [],
   "source": [
    "from io import StringIO\n",
    "import polars as pl\n",
    "bob = polars_df_to_bob(df, name=\"World\")"
   ]
  },
  {
   "cell_type": "code",
   "execution_count": 19,
   "metadata": {},
   "outputs": [],
   "source": [
    "import bpy\n",
    "\n",
    "# Load the node group from the blend file\n",
    "with bpy.data.libraries.load(\"geonode_world_pop.blend\", link=False) as (data_from, data_to):\n",
    "    data_to.node_groups = [ng for ng in data_from.node_groups if ng == \"world_population\"]\n",
    "\n",
    "# Assign the node group to the Geometry Nodes modifier\n",
    "modifier = bob.object.modifiers.new(name=\"GeometryNodes\", type='NODES')\n",
    "modifier.node_group = bpy.data.node_groups[\"world_population\"]"
   ]
  },
  {
   "cell_type": "code",
   "execution_count": 17,
   "metadata": {},
   "outputs": [
    {
     "data": {
      "text/plain": [
       "bpy.data.objects['World']"
      ]
     },
     "execution_count": 17,
     "metadata": {},
     "output_type": "execute_result"
    }
   ],
   "source": []
  },
  {
   "cell_type": "code",
   "execution_count": null,
   "metadata": {},
   "outputs": [
    {
     "ename": "",
     "evalue": "",
     "output_type": "error",
     "traceback": [
      "\u001b[1;31mThe Kernel crashed while executing code in the current cell or a previous cell. \n",
      "\u001b[1;31mPlease review the code in the cell(s) to identify a possible cause of the failure. \n",
      "\u001b[1;31mClick <a href='https://aka.ms/vscodeJupyterKernelCrash'>here</a> for more info. \n",
      "\u001b[1;31mView Jupyter <a href='command:jupyter.viewOutput'>log</a> for further details."
     ]
    }
   ],
   "source": [
    "import bpy\n",
    "# Define the geographic bounding box for the entire Earth\n",
    "west = -180.0  # Westernmost longitude\n",
    "east = 180.0   # Easternmost longitude\n",
    "north = 90.0   # Northernmost latitude\n",
    "south = -90.0  # Southernmost latitude\n",
    "# Calculate the center coordinates of the bounding box\n",
    "center_x = (west + east) / 2\n",
    "center_y = (north + south) / 2\n",
    "\n",
    "map_location = (center_x, center_y , 0 )\n",
    "# Add the plane and set it at the calculated center location\n",
    "bpy.ops.mesh.primitive_plane_add(size=1, location= map_location)\n",
    "plane = bpy.context.object\n",
    "\n",
    "# Create a new material and assign the image texture\n",
    "material = bpy.data.materials.new(name=\"ImageMaterial\")\n",
    "material.use_nodes = True\n",
    "bsdf = material.node_tree.nodes[\"Principled BSDF\"]\n",
    "\n",
    "# Add and load the image texture\n",
    "tex_image = material.node_tree.nodes.new('ShaderNodeTexImage')\n",
    "\n",
    "import pathlib\n",
    "image_location = pathlib.Path.cwd() / \"Equirectangular_projection_SW.jpg\"\n",
    "tex_image.image = bpy.data.images.load(str(image_location))\n",
    "\n",
    "# Connect the texture to the Base Color of the BSDF shader\n",
    "material.node_tree.links.new(bsdf.inputs['Base Color'], tex_image.outputs['Color'])\n",
    "plane.data.materials.append(material)\n",
    "\n",
    "# Calculate the scale based on the geographic bounds\n",
    "plane.scale.x = (east - west)\n",
    "plane.scale.y = (north - south) \n"
   ]
  },
  {
   "cell_type": "code",
   "execution_count": null,
   "metadata": {},
   "outputs": [],
   "source": [
    "import matplotlib.pyplot as plt\n",
    "import numpy as np\n",
    "\n",
    "# Convert the Polars DataFrame to a pandas DataFrame for compatibility with matplotlib\n",
    "df_pandas = df.to_pandas()\n",
    "\n",
    "# Extract latitude, longitude, and 1965 data\n",
    "latitudes = df_pandas[\"Latitude\"]\n",
    "longitudes = df_pandas[\"Longitude\"]\n",
    "values_1965 = df_pandas[\"1965\"]\n",
    "\n",
    "# Apply a logarithmic transformation to the 1965 data\n",
    "log_values = np.log10(values_1965 + 1)  # Add 1 to avoid log(0)\n",
    "\n",
    "# Scale the size of the dots proportionally to the population\n",
    "dot_sizes = (log_values - log_values.min()) / (log_values.max() - log_values.min()) * 500 + 10  # Scale between 10 and 500\n",
    "\n",
    "# Create a scatter plot\n",
    "plt.figure(figsize=(12, 8))\n",
    "scatter = plt.scatter(longitudes, latitudes, c=log_values, cmap=\"viridis\", s=dot_sizes, edgecolor=\"k\")\n",
    "\n",
    "# Add a colorbar to represent the heatmap\n",
    "colorbar = plt.colorbar(scatter, label=\"Log(Population (thousands) + 1) in 1965\")\n",
    "\n",
    "# Add labels and title\n",
    "plt.xlabel(\"Longitude\")\n",
    "plt.ylabel(\"Latitude\")\n",
    "plt.title(\"Heatmap of Population (Log Scale, 1965)\")\n",
    "\n",
    "# Automatically adjust the axis limits to fit the data\n",
    "plt.xlim(longitudes.min() - 2, longitudes.max() + 2)  # Add some padding around the min and max longitude\n",
    "plt.ylim(latitudes.min() - 2, latitudes.max() + 2)  # Add some padding around the min and max latitude\n",
    "\n",
    "# Show the plot\n",
    "plt.show()"
   ]
  },
  {
   "cell_type": "code",
   "execution_count": null,
   "metadata": {},
   "outputs": [],
   "source": [
    "# import subprocess\n",
    "# import sys\n",
    "\n",
    "# # Function to install a package\n",
    "# def install_package(package_name):\n",
    "#     try:\n",
    "#         # Use subprocess to call pip\n",
    "#         subprocess.check_call([sys.executable, \"-m\", \"pip\", \"install\", package_name])\n",
    "#         print(f\"'{package_name}' installed successfully.\")\n",
    "#     except Exception as e:\n",
    "#         print(f\"Failed to install '{package_name}': {e}\")\n",
    "\n",
    "# # Install fastexcel\n",
    "# install_package(\"pyarrow\")\n",
    "# install_package(\"fastexcel\")"
   ]
  }
 ],
 "metadata": {
  "kernelspec": {
   "display_name": "blender",
   "language": "python",
   "name": "blender"
  },
  "language_info": {
   "codemirror_mode": {
    "name": "ipython",
    "version": 3
   },
   "file_extension": ".py",
   "mimetype": "text/x-python",
   "name": "python",
   "nbconvert_exporter": "python",
   "pygments_lexer": "ipython3",
   "version": "3.11.9"
  }
 },
 "nbformat": 4,
 "nbformat_minor": 2
}
