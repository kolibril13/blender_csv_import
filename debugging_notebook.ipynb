{
 "cells": [
  {
   "cell_type": "code",
   "execution_count": 1,
   "metadata": {},
   "outputs": [],
   "source": [
    "%reload_ext autoreload\n",
    "%autoreload 2"
   ]
  },
  {
   "cell_type": "code",
   "execution_count": 18,
   "metadata": {},
   "outputs": [
    {
     "data": {
      "text/html": [
       "<div><style>\n",
       ".dataframe > thead > tr,\n",
       ".dataframe > tbody > tr {\n",
       "  text-align: right;\n",
       "  white-space: pre-wrap;\n",
       "}\n",
       "</style>\n",
       "<small>shape: (2, 4)</small><table border=\"1\" class=\"dataframe\"><thead><tr><th>FloatVal</th><th>IntVal</th><th>BoolVal</th><th>StringVal</th></tr><tr><td>f64</td><td>i64</td><td>bool</td><td>str</td></tr></thead><tbody><tr><td>1.23</td><td>10</td><td>true</td><td>&quot;Hello&quot;</td></tr><tr><td>4.56</td><td>20</td><td>false</td><td>&quot;World&quot;</td></tr></tbody></table></div>"
      ],
      "text/plain": [
       "shape: (2, 4)\n",
       "┌──────────┬────────┬─────────┬───────────┐\n",
       "│ FloatVal ┆ IntVal ┆ BoolVal ┆ StringVal │\n",
       "│ ---      ┆ ---    ┆ ---     ┆ ---       │\n",
       "│ f64      ┆ i64    ┆ bool    ┆ str       │\n",
       "╞══════════╪════════╪═════════╪═══════════╡\n",
       "│ 1.23     ┆ 10     ┆ true    ┆ Hello     │\n",
       "│ 4.56     ┆ 20     ┆ false   ┆ World     │\n",
       "└──────────┴────────┴─────────┴───────────┘"
      ]
     },
     "execution_count": 18,
     "metadata": {},
     "output_type": "execute_result"
    }
   ],
   "source": [
    "from io import StringIO\n",
    "from csv_importer.parsers import polars_df_to_bob\n",
    "import polars as pl\n",
    "\n",
    "\n",
    "csv_data = StringIO(\n",
    "\"\"\"\n",
    "FloatVal,IntVal,BoolVal,StringVal\n",
    "1.23,10,true,Hello\n",
    "4.56,20,false,World\"\"\"\n",
    ")\n",
    "\n",
    "# Create a Polars DataFrame\n",
    "df = pl.read_csv(csv_data)\n",
    "df"
   ]
  },
  {
   "cell_type": "code",
   "execution_count": 19,
   "metadata": {},
   "outputs": [
    {
     "name": "stdout",
     "output_type": "stream",
     "text": [
      "Hi from polars_df_to_bob\n"
     ]
    }
   ],
   "source": [
    "# Convert DataFrame to Bob object\n",
    "\n",
    "bob = polars_df_to_bob(df, name=\"SimpleDataFrameHello\")\n",
    "\n"
   ]
  },
  {
   "cell_type": "code",
   "execution_count": 12,
   "metadata": {},
   "outputs": [
    {
     "data": {
      "text/html": [
       "<div><style>\n",
       ".dataframe > thead > tr,\n",
       ".dataframe > tbody > tr {\n",
       "  text-align: right;\n",
       "  white-space: pre-wrap;\n",
       "}\n",
       "</style>\n",
       "<small>shape: (2, 5)</small><table border=\"1\" class=\"dataframe\"><thead><tr><th>Dino</th><th>Star</th><th>Is_Visible</th><th>Intensity</th><th>My Strings</th></tr><tr><td>list[f64]</td><td>list[f64]</td><td>bool</td><td>i64</td><td>str</td></tr></thead><tbody><tr><td>[55.3846, 97.1795, 0.0]</td><td>[58.2136, 91.8819, 0.0]</td><td>true</td><td>10</td><td>&quot;A&quot;</td></tr><tr><td>[51.5385, 96.0256, 0.0]</td><td>[58.1961, 92.215, 0.0]</td><td>false</td><td>20</td><td>&quot;B&quot;</td></tr></tbody></table></div>"
      ],
      "text/plain": [
       "shape: (2, 5)\n",
       "┌─────────────────────────┬─────────────────────────┬────────────┬───────────┬────────────┐\n",
       "│ Dino                    ┆ Star                    ┆ Is_Visible ┆ Intensity ┆ My Strings │\n",
       "│ ---                     ┆ ---                     ┆ ---        ┆ ---       ┆ ---        │\n",
       "│ list[f64]               ┆ list[f64]               ┆ bool       ┆ i64       ┆ str        │\n",
       "╞═════════════════════════╪═════════════════════════╪════════════╪═══════════╪════════════╡\n",
       "│ [55.3846, 97.1795, 0.0] ┆ [58.2136, 91.8819, 0.0] ┆ true       ┆ 10        ┆ A          │\n",
       "│ [51.5385, 96.0256, 0.0] ┆ [58.1961, 92.215, 0.0]  ┆ false      ┆ 20        ┆ B          │\n",
       "└─────────────────────────┴─────────────────────────┴────────────┴───────────┴────────────┘"
      ]
     },
     "execution_count": 12,
     "metadata": {},
     "output_type": "execute_result"
    }
   ],
   "source": [
    "df = pl.DataFrame({\n",
    "    \"Dino\": [\n",
    "        [55.3846, 97.1795, 0.0],\n",
    "        [51.5385, 96.0256, 0.0]\n",
    "    ],\n",
    "    \"Star\": [\n",
    "        [58.2136, 91.8819, 0.0],\n",
    "        [58.1961, 92.215, 0.0]\n",
    "    ],\n",
    "    \"Is_Visible\": [True, False],\n",
    "    \"Intensity\": [10, 20],\n",
    "    \"My Strings\": [\"A\", \"B\"]\n",
    "})\n",
    "df"
   ]
  },
  {
   "cell_type": "code",
   "execution_count": 17,
   "metadata": {},
   "outputs": [
    {
     "name": "stdout",
     "output_type": "stream",
     "text": [
      "Hi from polars_df_to_bob\n"
     ]
    },
    {
     "data": {
      "text/plain": [
       "<databpy.object.BlenderObject at 0x386052b90>"
      ]
     },
     "execution_count": 17,
     "metadata": {},
     "output_type": "execute_result"
    }
   ],
   "source": [
    "from csv_importer.parsers import polars_df_to_bob\n",
    "\n",
    "\n",
    "\n",
    "polars_df_to_bob(df, \"AdvancedDataFrame\")\n"
   ]
  },
  {
   "cell_type": "code",
   "execution_count": null,
   "metadata": {},
   "outputs": [],
   "source": []
  },
  {
   "cell_type": "code",
   "execution_count": null,
   "metadata": {},
   "outputs": [],
   "source": [
    "import polars as pl\n",
    "from io import StringIO\n",
    "\n",
    "# JSON file setup\n",
    "json_file = StringIO(\n",
    "    \"\"\"\n",
    "    {\n",
    "    \"Dino\": [\n",
    "        [55.3846, 97.1795, 0.0],\n",
    "        [51.5385, 96.0256, 0.0]\n",
    "    ],\n",
    "    \"Star\": [\n",
    "        [58.2136, 91.8819, 0.0],\n",
    "        [58.1961, 92.215, 0.0]\n",
    "    ],\n",
    "    \"Is_Visible\": [\n",
    "        [true],\n",
    "        [false]\n",
    "    ],\n",
    "    \"Intensity\": [\n",
    "        [10],\n",
    "        [20]\n",
    "    ],\n",
    "    \"My Strings\": [\n",
    "        [\"A\"],\n",
    "        [\"B\"]\n",
    "    ]\n",
    "    }\n",
    "    \"\"\"\n",
    ")\n",
    "\n",
    "# Read JSON into a DataFrame\n",
    "df = pl.read_json(json_file)\n",
    "\n",
    "print(\"Original DataFrame:\")\n",
    "print(df)\n",
    "\n",
    "# First explode: Explode columns with `list[list]` dtype\n",
    "columns_to_explode = [\n",
    "    col for col in df.columns if df[col].dtype == pl.List(pl.List)\n",
    "]\n",
    "df = df.explode(columns_to_explode)\n",
    "\n",
    "print(\"\\nAfter First Explosion:\")\n",
    "print(df)\n",
    "\n",
    "# Second explode: Skip \"Dino\" and \"Star\" columns, which have 3 elements in each list\n",
    "columns_to_explode = [\n",
    "    col for col in df.columns if df[col].dtype == pl.List and not (len(df[col][0]) == 3)\n",
    "]\n",
    "df = df.explode(columns_to_explode)\n",
    "\n",
    "print(\"\\nAfter Second Explosion:\")\n",
    "print(df)"
   ]
  },
  {
   "cell_type": "code",
   "execution_count": null,
   "metadata": {},
   "outputs": [],
   "source": [
    "# minimal version (use later for test)\n",
    "import polars as pl\n",
    "import databpy as db\n",
    "import numpy as np\n",
    "\n",
    "df = pl.DataFrame({\n",
    "    \"Star\": [\n",
    "        [58.2136, 91.8819, 0.0],\n",
    "        [58.1961, 92.215, 0.0]\n",
    "    ],\n",
    "    \"Is_Visible\": [True, False],\n",
    "    \"Intensity\": [10, 20],\n",
    "})\n",
    "\n",
    "print(df)\n",
    "\n",
    "vertices = np.zeros((len(df), 3), dtype=np.float32)\n",
    "bob = db.create_bob(vertices, name=\"DataWithVector\")\n",
    "\n",
    "for col in df.columns:\n",
    "    data = np.vstack(df.get_column(col).to_numpy())\n",
    "    bob.store_named_attribute(data, col)\n"
   ]
  },
  {
   "cell_type": "code",
   "execution_count": null,
   "metadata": {},
   "outputs": [],
   "source": [
    "s = pl.Series([[1, 2, 3], [4, 5, 6]], dtype=pl.Array(pl.Int64, 3))\n",
    "s.to_numpy()"
   ]
  },
  {
   "cell_type": "code",
   "execution_count": null,
   "metadata": {},
   "outputs": [],
   "source": [
    "import polars as pl\n",
    "s = pl.Series([[1, 2, 3], [4, 5, 6]])\n",
    "s.to_numpy()"
   ]
  },
  {
   "cell_type": "code",
   "execution_count": null,
   "metadata": {},
   "outputs": [],
   "source": [
    "df = pl.DataFrame({\n",
    "    \"Star\": [\n",
    "        [58.2136, 91.8819, 0.0],\n",
    "        [58.1961, 92.215, 0.0]\n",
    "    ],\n",
    "    \"Is_Visible\": [True, False],\n",
    "    \"Intensity\": [10, 20],\n",
    "})\n",
    "\n",
    "print(df)\n",
    "len(df[\"Star\"][0]) == 3 \n",
    "\n"
   ]
  },
  {
   "cell_type": "code",
   "execution_count": null,
   "metadata": {},
   "outputs": [],
   "source": [
    "import polars as pl\n",
    "\n",
    "# Original DataFrame\n",
    "df = pl.DataFrame(\n",
    "    {\n",
    "        \"Star\": [[58.2136, 91.8819, 0.0], [58.1961, 92.215, 0.0]],\n",
    "        \"Other\": [[1, 2], [3, 4]],\n",
    "        \"Is_Visible\": [True, False],\n",
    "        \"Intensity\": [10, 20],\n",
    "    }\n",
    ")\n",
    "\n",
    "print(df.get_column(\"Star\").dtype)\n",
    "\n",
    "# Identify columns that are lists and have elements of length 3\n",
    "columns_to_cast = [col for col in df.columns if isinstance(df[col], pl.List) and len(df[col][0]) == 3]\n",
    "print(columns_to_cast)\n",
    "# Apply casting to the identified columns\n",
    "for col in columns_to_cast:\n",
    "    print(\"hi\")\n",
    "    df = df.with_columns(pl.col(col).cast(pl.Array(pl.Float64, 3)).alias(col))\n",
    "\n",
    "# Output the resulting DataFrame and schema\n",
    "print(df)\n",
    "print(df.schema)"
   ]
  },
  {
   "cell_type": "code",
   "execution_count": null,
   "metadata": {},
   "outputs": [],
   "source": [
    "df[\"Star\"].to_numpy()"
   ]
  },
  {
   "cell_type": "code",
   "execution_count": null,
   "metadata": {},
   "outputs": [],
   "source": []
  },
  {
   "cell_type": "code",
   "execution_count": null,
   "metadata": {},
   "outputs": [],
   "source": [
    "# casting coorect data type, don't need to use vstack this way\n",
    "import polars as pl\n",
    "\n",
    "# Original DataFrame\n",
    "df = pl.DataFrame(\n",
    "    {\n",
    "        \"Star\": [[58.2136, 91.8819, 0.0], [58.1961, 92.215, 0.0]],\n",
    "        \"Is_Visible\": [True, False],\n",
    "        \"Intensity\": [10, 20],\n",
    "    }\n",
    ")\n",
    "\n",
    "# Identify columns to cast\n",
    "columns_to_cast = []\n",
    "for col, dtype in df.schema.items():\n",
    "    if dtype == pl.List(pl.Float64) and len(df[col][0]) == 3:\n",
    "        columns_to_cast.append(col)\n",
    "\n",
    "# Apply casting\n",
    "for col in columns_to_cast:\n",
    "    df = df.with_columns(pl.col(col).cast(pl.Array(pl.Float64, 3)).alias(col))\n",
    "\n",
    "# Output the resulting DataFrame and schema\n",
    "print(df)\n",
    "df[\"Star\"].to_numpy()"
   ]
  },
  {
   "cell_type": "code",
   "execution_count": null,
   "metadata": {},
   "outputs": [],
   "source": [
    "vertices = np.zeros((len(df), 3), dtype=np.float32)\n",
    "bob = db.create_bob(vertices, name=\"DataWithVector\")\n",
    "\n",
    "for col in df.columns:\n",
    "    data = df[col].to_numpy()\n",
    "    bob.store_named_attribute(data, col)"
   ]
  },
  {
   "cell_type": "markdown",
   "metadata": {},
   "source": [
    "# self-contained: setting string attributes"
   ]
  },
  {
   "cell_type": "code",
   "execution_count": null,
   "metadata": {},
   "outputs": [],
   "source": [
    "\n",
    "import numpy as np\n",
    "import polars as pl\n",
    "import databpy as db\n",
    "\n",
    "# Minimal data setup\n",
    "df = pl.DataFrame({\n",
    "    \"strings\": [\"apple\", \"banana\", \"apple\", None, \"orange\", \"banana\", \"kiwi\", \"apple\", \"kiwi\", \"banana\"],\n",
    "    \"numbers\": np.arange(10),\n",
    "})\n",
    "\n",
    "# random_verts dependent on df length\n",
    "random_verts = np.random.rand(len(df), 3)\n",
    "bob = db.create_bob(random_verts)\n",
    "\n",
    "for col in df.columns:\n",
    "    if df[col].dtype == pl.Utf8:\n",
    "        data = df[col].fill_null(\"\").to_numpy()\n",
    "        unique, encoding = np.unique(data, return_inverse=True)\n",
    "        bob.store_named_attribute(encoding, col)\n",
    "        db.nodes.custom_string_iswitch(f\"{bob.name}: {col}\", unique, col)\n",
    "    else:\n",
    "        bob.store_named_attribute(df[col].to_numpy(), col)"
   ]
  },
  {
   "cell_type": "code",
   "execution_count": null,
   "metadata": {},
   "outputs": [],
   "source": [
    "# increased string limit\n",
    "import string\n",
    "import numpy as np\n",
    "import polars as pl\n",
    "import databpy as db\n",
    "from csv_importer.parsers import update_bob_from_polars_df\n",
    "\n",
    "n = 4000\n",
    "random_strings = [''.join(np.random.choice(list(string.ascii_lowercase), size=10)) for _ in range(n)]\n",
    "df = pl.DataFrame({\"strings\": random_strings, \"numbers\": np.arange(n)})\n",
    "bob = db.create_bob(np.random.rand(n, 3))\n",
    "update_bob_from_polars_df(bob, df, string_limit =4001)"
   ]
  },
  {
   "cell_type": "code",
   "execution_count": null,
   "metadata": {},
   "outputs": [],
   "source": [
    "import string\n",
    "import numpy as np\n",
    "import polars as pl\n",
    "from csv_importer.parsers import polars_df_to_bob\n",
    "\n",
    "n = 1000\n",
    "random_strings = [''.join(np.random.choice(list(string.ascii_lowercase), size=10)) for _ in range(n)]\n",
    "df = pl.DataFrame({\"strings\": random_strings, \"numbers\": np.arange(n)})\n",
    "bob = polars_df_to_bob(df, name=\"TestBob\")\n"
   ]
  }
 ],
 "metadata": {
  "kernelspec": {
   "display_name": "blender",
   "language": "python",
   "name": "blender"
  },
  "language_info": {
   "codemirror_mode": {
    "name": "ipython",
    "version": 3
   },
   "file_extension": ".py",
   "mimetype": "text/x-python",
   "name": "python",
   "nbconvert_exporter": "python",
   "pygments_lexer": "ipython3",
   "version": "3.11.10"
  }
 },
 "nbformat": 4,
 "nbformat_minor": 2
}
